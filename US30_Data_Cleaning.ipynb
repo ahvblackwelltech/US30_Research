{
  "nbformat": 4,
  "nbformat_minor": 0,
  "metadata": {
    "colab": {
      "name": "US30_Data_Cleaning.ipynb",
      "provenance": [],
      "authorship_tag": "ABX9TyNZD3/q6HujQaYZfHrYIecN",
      "include_colab_link": true
    },
    "kernelspec": {
      "name": "python3",
      "display_name": "Python 3"
    },
    "language_info": {
      "name": "python"
    }
  },
  "cells": [
    {
      "cell_type": "markdown",
      "metadata": {
        "id": "view-in-github",
        "colab_type": "text"
      },
      "source": [
        "<a href=\"https://colab.research.google.com/github/ahvblackwelltech/US30_Research/blob/main/US30_Data_Cleaning.ipynb\" target=\"_parent\"><img src=\"https://colab.research.google.com/assets/colab-badge.svg\" alt=\"Open In Colab\"/></a>"
      ]
    },
    {
      "cell_type": "markdown",
      "metadata": {
        "id": "Ep5S4Hx5JAyl"
      },
      "source": [
        "# **US30 Research & Data Cleaning**"
      ]
    },
    {
      "cell_type": "code",
      "metadata": {
        "id": "KxLt4sI5I7O1"
      },
      "source": [
        ""
      ],
      "execution_count": null,
      "outputs": []
    }
  ]
}