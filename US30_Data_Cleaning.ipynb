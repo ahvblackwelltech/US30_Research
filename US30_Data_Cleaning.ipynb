{
  "nbformat": 4,
  "nbformat_minor": 0,
  "metadata": {
    "colab": {
      "name": "US30_Data_Cleaning.ipynb",
      "provenance": [],
      "authorship_tag": "ABX9TyN9evOMHksnKf3DPfBBH8va",
      "include_colab_link": true
    },
    "kernelspec": {
      "name": "python3",
      "display_name": "Python 3"
    },
    "language_info": {
      "name": "python"
    }
  },
  "cells": [
    {
      "cell_type": "markdown",
      "metadata": {
        "id": "view-in-github",
        "colab_type": "text"
      },
      "source": [
        "<a href=\"https://colab.research.google.com/github/ahvblackwelltech/US30_Research/blob/main/US30_Data_Cleaning.ipynb\" target=\"_parent\"><img src=\"https://colab.research.google.com/assets/colab-badge.svg\" alt=\"Open In Colab\"/></a>"
      ]
    },
    {
      "cell_type": "markdown",
      "metadata": {
        "id": "Ep5S4Hx5JAyl"
      },
      "source": [
        "# **US30 Research & Data Cleaning**"
      ]
    },
    {
      "cell_type": "code",
      "metadata": {
        "id": "KxLt4sI5I7O1"
      },
      "source": [
        "# Import Libraries \n",
        "import pandas as pd \n",
        "import numpy as np\n",
        "import matplotlib.pyplot as plt\n",
        "\n",
        "%matplotlib inline\n",
        "\n",
        "from sklearn.preprocessing import MinMaxScaler"
      ],
      "execution_count": 1,
      "outputs": []
    },
    {
      "cell_type": "markdown",
      "metadata": {
        "id": "VCB0FCgDL0Zy"
      },
      "source": [
        ""
      ]
    },
    {
      "cell_type": "code",
      "metadata": {
        "colab": {
          "base_uri": "https://localhost:8080/",
          "height": 363
        },
        "id": "rirjQRumL0yC",
        "outputId": "1428b902-f06b-46ad-fe80-a9fcb61abf3f"
      },
      "source": [
        "df = pd.read_csv(\"US30.csv\")\n",
        "df.head(10)"
      ],
      "execution_count": 3,
      "outputs": [
        {
          "output_type": "execute_result",
          "data": {
            "text/html": [
              "<div>\n",
              "<style scoped>\n",
              "    .dataframe tbody tr th:only-of-type {\n",
              "        vertical-align: middle;\n",
              "    }\n",
              "\n",
              "    .dataframe tbody tr th {\n",
              "        vertical-align: top;\n",
              "    }\n",
              "\n",
              "    .dataframe thead th {\n",
              "        text-align: right;\n",
              "    }\n",
              "</style>\n",
              "<table border=\"1\" class=\"dataframe\">\n",
              "  <thead>\n",
              "    <tr style=\"text-align: right;\">\n",
              "      <th></th>\n",
              "      <th>Date</th>\n",
              "      <th>Open</th>\n",
              "      <th>High</th>\n",
              "      <th>Low</th>\n",
              "      <th>Close</th>\n",
              "    </tr>\n",
              "  </thead>\n",
              "  <tbody>\n",
              "    <tr>\n",
              "      <th>0</th>\n",
              "      <td>12/06/2021</td>\n",
              "      <td>34,633.43</td>\n",
              "      <td>35,356.75</td>\n",
              "      <td>34,633.43</td>\n",
              "      <td>35,227.03</td>\n",
              "    </tr>\n",
              "    <tr>\n",
              "      <th>1</th>\n",
              "      <td>12/03/2021</td>\n",
              "      <td>34,692.78</td>\n",
              "      <td>34,801.31</td>\n",
              "      <td>34,264.57</td>\n",
              "      <td>34,580.08</td>\n",
              "    </tr>\n",
              "    <tr>\n",
              "      <th>2</th>\n",
              "      <td>12/02/2021</td>\n",
              "      <td>34,076.25</td>\n",
              "      <td>34,759.65</td>\n",
              "      <td>34,076.25</td>\n",
              "      <td>34,639.79</td>\n",
              "    </tr>\n",
              "    <tr>\n",
              "      <th>3</th>\n",
              "      <td>12/01/2021</td>\n",
              "      <td>34,678.94</td>\n",
              "      <td>35,004.64</td>\n",
              "      <td>34,006.98</td>\n",
              "      <td>34,022.04</td>\n",
              "    </tr>\n",
              "    <tr>\n",
              "      <th>4</th>\n",
              "      <td>11/30/2021</td>\n",
              "      <td>35,056.99</td>\n",
              "      <td>35,056.99</td>\n",
              "      <td>34,424.44</td>\n",
              "      <td>34,483.72</td>\n",
              "    </tr>\n",
              "    <tr>\n",
              "      <th>5</th>\n",
              "      <td>11/29/2021</td>\n",
              "      <td>35,017.71</td>\n",
              "      <td>35,287.91</td>\n",
              "      <td>34,895.89</td>\n",
              "      <td>35,135.94</td>\n",
              "    </tr>\n",
              "    <tr>\n",
              "      <th>6</th>\n",
              "      <td>11/26/2021</td>\n",
              "      <td>35,366.69</td>\n",
              "      <td>35,366.69</td>\n",
              "      <td>34,749.80</td>\n",
              "      <td>34,899.34</td>\n",
              "    </tr>\n",
              "    <tr>\n",
              "      <th>7</th>\n",
              "      <td>11/24/2021</td>\n",
              "      <td>35,752.31</td>\n",
              "      <td>35,825.47</td>\n",
              "      <td>35,591.03</td>\n",
              "      <td>35,804.38</td>\n",
              "    </tr>\n",
              "    <tr>\n",
              "      <th>8</th>\n",
              "      <td>11/23/2021</td>\n",
              "      <td>35,619.92</td>\n",
              "      <td>35,841.52</td>\n",
              "      <td>35,542.87</td>\n",
              "      <td>35,813.80</td>\n",
              "    </tr>\n",
              "    <tr>\n",
              "      <th>9</th>\n",
              "      <td>11/22/2021</td>\n",
              "      <td>35,631.41</td>\n",
              "      <td>35,929.66</td>\n",
              "      <td>35,615.55</td>\n",
              "      <td>35,619.25</td>\n",
              "    </tr>\n",
              "  </tbody>\n",
              "</table>\n",
              "</div>"
            ],
            "text/plain": [
              "         Date       Open       High        Low      Close\n",
              "0  12/06/2021  34,633.43  35,356.75  34,633.43  35,227.03\n",
              "1  12/03/2021  34,692.78  34,801.31  34,264.57  34,580.08\n",
              "2  12/02/2021  34,076.25  34,759.65  34,076.25  34,639.79\n",
              "3  12/01/2021  34,678.94  35,004.64  34,006.98  34,022.04\n",
              "4  11/30/2021  35,056.99  35,056.99  34,424.44  34,483.72\n",
              "5  11/29/2021  35,017.71  35,287.91  34,895.89  35,135.94\n",
              "6  11/26/2021  35,366.69  35,366.69  34,749.80  34,899.34\n",
              "7  11/24/2021  35,752.31  35,825.47  35,591.03  35,804.38\n",
              "8  11/23/2021  35,619.92  35,841.52  35,542.87  35,813.80\n",
              "9  11/22/2021  35,631.41  35,929.66  35,615.55  35,619.25"
            ]
          },
          "metadata": {},
          "execution_count": 3
        }
      ]
    }
  ]
}