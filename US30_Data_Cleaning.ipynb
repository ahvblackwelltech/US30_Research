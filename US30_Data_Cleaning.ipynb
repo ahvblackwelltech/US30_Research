{
  "nbformat": 4,
  "nbformat_minor": 0,
  "metadata": {
    "colab": {
      "name": "US30_Data_Cleaning.ipynb",
      "provenance": [],
      "authorship_tag": "ABX9TyN9JDb62Fr17jH3DH7KSuVe",
      "include_colab_link": true
    },
    "kernelspec": {
      "name": "python3",
      "display_name": "Python 3"
    },
    "language_info": {
      "name": "python"
    }
  },
  "cells": [
    {
      "cell_type": "markdown",
      "metadata": {
        "id": "view-in-github",
        "colab_type": "text"
      },
      "source": [
        "<a href=\"https://colab.research.google.com/github/ahvblackwelltech/US30_Research/blob/main/US30_Data_Cleaning.ipynb\" target=\"_parent\"><img src=\"https://colab.research.google.com/assets/colab-badge.svg\" alt=\"Open In Colab\"/></a>"
      ]
    },
    {
      "cell_type": "markdown",
      "metadata": {
        "id": "Ep5S4Hx5JAyl"
      },
      "source": [
        "# **US30 Research & Data Cleaning**"
      ]
    },
    {
      "cell_type": "code",
      "metadata": {
        "id": "KxLt4sI5I7O1"
      },
      "source": [
        "# Import Libraries \n",
        "import pandas as pd \n",
        "import numpy as np\n",
        "import matplotlib.pyplot as plt\n",
        "\n",
        "%matplotlib inline\n",
        "\n",
        "from sklearn.preprocessing import MinMaxScaler"
      ],
      "execution_count": 1,
      "outputs": []
    },
    {
      "cell_type": "markdown",
      "metadata": {
        "id": "VCB0FCgDL0Zy"
      },
      "source": [
        ""
      ]
    },
    {
      "cell_type": "code",
      "metadata": {
        "colab": {
          "base_uri": "https://localhost:8080/",
          "height": 206
        },
        "id": "rirjQRumL0yC",
        "outputId": "9920873e-e16e-4a79-eb26-d7edad15dae7"
      },
      "source": [
        "df = pd.read_csv(\"US30.csv\")\n",
        "df.head()"
      ],
      "execution_count": 2,
      "outputs": [
        {
          "output_type": "execute_result",
          "data": {
            "text/html": [
              "<div>\n",
              "<style scoped>\n",
              "    .dataframe tbody tr th:only-of-type {\n",
              "        vertical-align: middle;\n",
              "    }\n",
              "\n",
              "    .dataframe tbody tr th {\n",
              "        vertical-align: top;\n",
              "    }\n",
              "\n",
              "    .dataframe thead th {\n",
              "        text-align: right;\n",
              "    }\n",
              "</style>\n",
              "<table border=\"1\" class=\"dataframe\">\n",
              "  <thead>\n",
              "    <tr style=\"text-align: right;\">\n",
              "      <th></th>\n",
              "      <th>Date</th>\n",
              "      <th>Open</th>\n",
              "      <th>High</th>\n",
              "      <th>Low</th>\n",
              "      <th>Close</th>\n",
              "    </tr>\n",
              "  </thead>\n",
              "  <tbody>\n",
              "    <tr>\n",
              "      <th>0</th>\n",
              "      <td>12/06/2021</td>\n",
              "      <td>34,633.43</td>\n",
              "      <td>35,356.75</td>\n",
              "      <td>34,633.43</td>\n",
              "      <td>35,227.03</td>\n",
              "    </tr>\n",
              "    <tr>\n",
              "      <th>1</th>\n",
              "      <td>12/03/2021</td>\n",
              "      <td>34,692.78</td>\n",
              "      <td>34,801.31</td>\n",
              "      <td>34,264.57</td>\n",
              "      <td>34,580.08</td>\n",
              "    </tr>\n",
              "    <tr>\n",
              "      <th>2</th>\n",
              "      <td>12/02/2021</td>\n",
              "      <td>34,076.25</td>\n",
              "      <td>34,759.65</td>\n",
              "      <td>34,076.25</td>\n",
              "      <td>34,639.79</td>\n",
              "    </tr>\n",
              "    <tr>\n",
              "      <th>3</th>\n",
              "      <td>12/01/2021</td>\n",
              "      <td>34,678.94</td>\n",
              "      <td>35,004.64</td>\n",
              "      <td>34,006.98</td>\n",
              "      <td>34,022.04</td>\n",
              "    </tr>\n",
              "    <tr>\n",
              "      <th>4</th>\n",
              "      <td>11/30/2021</td>\n",
              "      <td>35,056.99</td>\n",
              "      <td>35,056.99</td>\n",
              "      <td>34,424.44</td>\n",
              "      <td>34,483.72</td>\n",
              "    </tr>\n",
              "  </tbody>\n",
              "</table>\n",
              "</div>"
            ],
            "text/plain": [
              "         Date       Open       High        Low      Close\n",
              "0  12/06/2021  34,633.43  35,356.75  34,633.43  35,227.03\n",
              "1  12/03/2021  34,692.78  34,801.31  34,264.57  34,580.08\n",
              "2  12/02/2021  34,076.25  34,759.65  34,076.25  34,639.79\n",
              "3  12/01/2021  34,678.94  35,004.64  34,006.98  34,022.04\n",
              "4  11/30/2021  35,056.99  35,056.99  34,424.44  34,483.72"
            ]
          },
          "metadata": {},
          "execution_count": 2
        }
      ]
    }
  ]
}